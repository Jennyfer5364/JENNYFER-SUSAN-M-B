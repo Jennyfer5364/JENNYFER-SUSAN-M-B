{
  "nbformat": 4,
  "nbformat_minor": 0,
  "metadata": {
    "colab": {
      "name": "importingGithubdata.ipynb",
      "provenance": [],
      "authorship_tag": "ABX9TyMYy7O6wVGVpcmYQS+eNxiw",
      "include_colab_link": true
    },
    "kernelspec": {
      "name": "python3",
      "display_name": "Python 3"
    },
    "language_info": {
      "name": "python"
    }
  },
  "cells": [
    {
      "cell_type": "markdown",
      "metadata": {
        "id": "view-in-github",
        "colab_type": "text"
      },
      "source": [
        "<a href=\"https://colab.research.google.com/github/Jennyfer5364/JENNYFER-SUSAN-M-B/blob/main/importingGithubdata.ipynb\" target=\"_parent\"><img src=\"https://colab.research.google.com/assets/colab-badge.svg\" alt=\"Open In Colab\"/></a>"
      ]
    },
    {
      "cell_type": "code",
      "execution_count": 2,
      "metadata": {
        "id": "QI8I0iJmBq4J"
      },
      "outputs": [],
      "source": [
        "url = 'https://raw.githubusercontent.com/aqlaboratory/proteinnet/master/code/text_sample'"
      ]
    },
    {
      "cell_type": "code",
      "source": [
        "import pandas as pd"
      ],
      "metadata": {
        "id": "OzzcfnbpCKfU"
      },
      "execution_count": 5,
      "outputs": []
    },
    {
      "cell_type": "code",
      "source": [
        "p = pd.read_csv(url)"
      ],
      "metadata": {
        "id": "-ZaQV41VBymR"
      },
      "execution_count": 6,
      "outputs": []
    },
    {
      "cell_type": "code",
      "source": [
        "print(p)"
      ],
      "metadata": {
        "colab": {
          "base_uri": "https://localhost:8080/"
        },
        "id": "U_roySTTCVD8",
        "outputId": "7e70937e-9bd4-4cb5-89fe-63dbe8ea0d63"
      },
      "execution_count": 7,
      "outputs": [
        {
          "output_type": "stream",
          "name": "stdout",
          "text": [
            "                                                 [ID]\n",
            "0                                           TBM#T0366\n",
            "1                                           [PRIMARY]\n",
            "2   TENLYFQSMGLRTVEMKKGPTDSLGISIAGGVGSPLGDVPIFIAMM...\n",
            "3                                      [EVOLUTIONARY]\n",
            "4   0\\t0\\t0\\t0.03763109191856878\\t0\\t0.05784262636...\n",
            "5   0\\t0\\t0\\t0\\t0\\t0.009640437727983325\\t0\\t0\\t0.0...\n",
            "6   0\\t0\\t0\\t0\\t0\\t0.011985409067222511\\t0.0318449...\n",
            "7   0\\t1.\\t0\\t0\\t0\\t0.04116727462219907\\t0.0964001...\n",
            "8   0\\t0\\t0\\t0\\t0.49662369551872315\\t0.29338196977...\n",
            "9   0\\t0\\t0\\t0\\t0\\t0.03621677957269411\\t0\\t0.05922...\n",
            "10  0\\t0\\t0\\t0\\t0.022099447513812154\\t0.0049504950...\n",
            "11  0\\t0\\t0\\t0.18383713756940162\\t0\\t0.01094319958...\n",
            "12  0\\t0\\t0\\t0\\t0\\t0.01928087545596665\\t0.12149532...\n",
            "13  0\\t0\\t0\\t0.7112893275755706\\t0\\t0.020844189682...\n",
            "14  0\\t0\\t0\\t0.040715607649599014\\t0.0414364640883...\n",
            "15  0\\t0\\t1.\\t0\\t0\\t0.019020323084940075\\t0.185358...\n",
            "16  0\\t0\\t0\\t0\\t0\\t0\\t0.005538248528902734\\t0.0022...\n",
            "17  0\\t0\\t0\\t0\\t0\\t0.030484627410109433\\t0.3205261...\n",
            "18  0\\t0\\t0\\t0\\t0\\t0\\t0.08013153340256142\\t0.01928...\n",
            "19  0\\t0\\t0\\t0\\t0\\t0.3564356435643565\\t0.028729664...\n",
            "20  1.\\t0\\t0\\t0.026526835286859965\\t0\\t0.008337675...\n",
            "21  0\\t0\\t0\\t0\\t0\\t0.07946847316310579\\t0\\t0.00903...\n",
            "22  0\\t0\\t0\\t0\\t0\\t0\\t0\\t0.025838137945761265\\t0.0...\n",
            "23  0\\t0\\t0\\t0\\t0.43984039287906695\\t0\\t0.00640359...\n",
            "24  0.9999999988691709\\t0.9999999988691709\\t0.9999...\n",
            "25                                         [TERTIARY]\n",
            "26  0\\t0\\t0\\t0\\t0\\t0\\t0\\t0\\t0\\t0\\t0\\t0\\t0\\t0\\t0\\t0...\n",
            "27  0\\t0\\t0\\t0\\t0\\t0\\t0\\t0\\t0\\t0\\t0\\t0\\t0\\t0\\t0\\t0...\n",
            "28  0\\t0\\t0\\t0\\t0\\t0\\t0\\t0\\t0\\t0\\t0\\t0\\t0\\t0\\t0\\t0...\n",
            "29                                             [MASK]\n",
            "30  ----------++++++++----++++++++++++++++++++++++...\n"
          ]
        }
      ]
    }
  ]
}