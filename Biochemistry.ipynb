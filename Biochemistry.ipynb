{
  "nbformat": 4,
  "nbformat_minor": 0,
  "metadata": {
    "colab": {
      "name": "Biochemistry.ipynb",
      "provenance": [],
      "authorship_tag": "ABX9TyPlNWgOdilY8KENsmwR8Akn",
      "include_colab_link": true
    },
    "kernelspec": {
      "name": "python3",
      "display_name": "Python 3"
    },
    "language_info": {
      "name": "python"
    }
  },
  "cells": [
    {
      "cell_type": "markdown",
      "metadata": {
        "id": "view-in-github",
        "colab_type": "text"
      },
      "source": [
        "<a href=\"https://colab.research.google.com/github/Jennyfer5364/JENNYFER-SUSAN-M-B/blob/main/Biochemistry.ipynb\" target=\"_parent\"><img src=\"https://colab.research.google.com/assets/colab-badge.svg\" alt=\"Open In Colab\"/></a>"
      ]
    },
    {
      "cell_type": "code",
      "source": [
        "!mkdir \"BioChemical\""
      ],
      "metadata": {
        "id": "iLPgWM7d0RfT"
      },
      "execution_count": 8,
      "outputs": []
    },
    {
      "cell_type": "code",
      "source": [
        "!mkdir \"Proteinreaction\""
      ],
      "metadata": {
        "id": "I7zXzd9l47rQ"
      },
      "execution_count": null,
      "outputs": []
    },
    {
      "cell_type": "code",
      "source": [
        "!mv  BioChemical chemical"
      ],
      "metadata": {
        "id": "6TCOIQOo1DuZ"
      },
      "execution_count": 11,
      "outputs": []
    },
    {
      "cell_type": "code",
      "source": [
        "!rmdir \"Proteinreaction\""
      ],
      "metadata": {
        "id": "2I5EU6tX5GB_"
      },
      "execution_count": 12,
      "outputs": []
    }
  ]
}