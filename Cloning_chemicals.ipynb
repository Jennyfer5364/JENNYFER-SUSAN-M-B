{
  "nbformat": 4,
  "nbformat_minor": 0,
  "metadata": {
    "colab": {
      "name": "Cloning chemicals.ipynb",
      "provenance": [],
      "authorship_tag": "ABX9TyNbLPvdPVQ+vzS4zXfZs/Wm",
      "include_colab_link": true
    },
    "kernelspec": {
      "name": "python3",
      "display_name": "Python 3"
    },
    "language_info": {
      "name": "python"
    }
  },
  "cells": [
    {
      "cell_type": "markdown",
      "metadata": {
        "id": "view-in-github",
        "colab_type": "text"
      },
      "source": [
        "<a href=\"https://colab.research.google.com/github/Jennyfer5364/JENNYFER-SUSAN-M-B/blob/main/Cloning_chemicals.ipynb\" target=\"_parent\"><img src=\"https://colab.research.google.com/assets/colab-badge.svg\" alt=\"Open In Colab\"/></a>"
      ]
    },
    {
      "cell_type": "code",
      "execution_count": 1,
      "metadata": {
        "colab": {
          "base_uri": "https://localhost:8080/"
        },
        "id": "Y5AFhaP2dBt5",
        "outputId": "3a018025-30b2-406f-8f75-64f16d390f5a"
      },
      "outputs": [
        {
          "output_type": "stream",
          "name": "stdout",
          "text": [
            "Cloning into 'chemicals'...\n",
            "remote: Enumerating objects: 5587, done.\u001b[K\n",
            "remote: Counting objects: 100% (2104/2104), done.\u001b[K\n",
            "remote: Compressing objects: 100% (1143/1143), done.\u001b[K\n",
            "remote: Total 5587 (delta 1495), reused 1459 (delta 933), pack-reused 3483\u001b[K\n",
            "Receiving objects: 100% (5587/5587), 27.71 MiB | 18.04 MiB/s, done.\n",
            "Resolving deltas: 100% (4071/4071), done.\n"
          ]
        }
      ],
      "source": [
        "!git clone https://github.com/CalebBell/chemicals.git"
      ]
    }
  ]
}